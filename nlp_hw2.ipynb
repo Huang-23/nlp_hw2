{
 "cells": [
  {
   "cell_type": "code",
   "execution_count": 1,
   "metadata": {},
   "outputs": [],
   "source": [
    "import requests\n",
    "from bs4 import BeautifulSoup"
   ]
  },
  {
   "cell_type": "code",
   "execution_count": 4,
   "metadata": {},
   "outputs": [
    {
     "name": "stdout",
     "output_type": "stream",
     "text": [
      "1\n",
      "2\n",
      "3\n",
      "4\n",
      "5\n",
      "6\n",
      "7\n",
      "8\n",
      "10\n"
     ]
    }
   ],
   "source": [
    "infos = []\n",
    "\n",
    "for i in range(1,11): #11467\n",
    "    url = \"https://movies.yahoo.com.tw/movieinfo_main/\" + str(i)\n",
    "    r = requests.get(url)\n",
    "    soup = BeautifulSoup(r.text)\n",
    "    \n",
    "    info = {}\n",
    "    \n",
    "    if soup.find('div', class_='movie_intro_info_r'):\n",
    "        for d in soup.find_all('div', id=\"content_l\"):\n",
    "            info['名稱'] = d.find('div', class_='movie_intro_info_r').find('h1').text.strip()\n",
    "            \n",
    "            \n",
    "            info['劇情介紹'] = d.find('span', id ='story').text.strip()\n",
    "            info['上映日期'] = d.find('span').text.strip()[5:]\n",
    "            \n",
    "            infos.append(info)\n",
    "            print(i)"
   ]
  },
  {
   "cell_type": "code",
   "execution_count": null,
   "metadata": {},
   "outputs": [],
   "source": []
  }
 ],
 "metadata": {
  "kernelspec": {
   "display_name": "Python 3",
   "language": "python",
   "name": "python3"
  },
  "language_info": {
   "codemirror_mode": {
    "name": "ipython",
    "version": 3
   },
   "file_extension": ".py",
   "mimetype": "text/x-python",
   "name": "python",
   "nbconvert_exporter": "python",
   "pygments_lexer": "ipython3",
   "version": "3.8.5"
  }
 },
 "nbformat": 4,
 "nbformat_minor": 4
}
