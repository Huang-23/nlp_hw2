{
 "cells": [
  {
   "cell_type": "code",
   "execution_count": 1,
   "metadata": {},
   "outputs": [],
   "source": [
    "import requests\n",
    "from bs4 import BeautifulSoup"
   ]
  },
  {
   "cell_type": "code",
   "execution_count": 2,
   "metadata": {},
   "outputs": [],
   "source": [
    "infos = []\n",
    "\n",
    "for i in range(1,10): #11467\n",
    "    url = \"https://movies.yahoo.com.tw/movieinfo_main/\" + str(i)\n",
    "    r = requests.get(url)\n",
    "    soup = BeautifulSoup(r.text)\n",
    "    \n",
    "    info = {}\n",
    "    \n",
    "    if soup.find('div', class_='movie_intro_info_r'):\n",
    "        for d in soup.find_all('div', id=\"content_l\"):\n",
    "            info['名稱'] = d.find('div', class_='movie_intro_info_r').find('h1').text.strip()\n",
    "            \n",
    "            info['劇情介紹'] = d.find('span', id ='story').text.strip()\n",
    "            info['上映日期'] = d.find('span').text.strip()[5:]"
   ]
  }
 ],
 "metadata": {
  "kernelspec": {
   "display_name": "Python 3",
   "language": "python",
   "name": "python3"
  },
  "language_info": {
   "codemirror_mode": {
    "name": "ipython",
    "version": 3
   },
   "file_extension": ".py",
   "mimetype": "text/x-python",
   "name": "python",
   "nbconvert_exporter": "python",
   "pygments_lexer": "ipython3",
   "version": "3.8.5"
  }
 },
 "nbformat": 4,
 "nbformat_minor": 4
}
